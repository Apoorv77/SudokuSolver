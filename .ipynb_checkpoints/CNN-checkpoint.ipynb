{
 "cells": [
  {
   "cell_type": "code",
   "execution_count": 27,
   "id": "c8f847a4",
   "metadata": {},
   "outputs": [],
   "source": [
    "import numpy as np\n",
    "from tensorflow.keras.datasets import mnist\n",
    "from tensorflow.keras.models import Sequential\n",
    "from tensorflow.keras.layers import Dense, Dropout, Flatten\n",
    "from tensorflow.keras.layers import Conv2D, MaxPooling2D, MaxPool2D\n",
    "from tensorflow.keras import backend as K\n",
    "import matplotlib.pyplot as plt"
   ]
  },
  {
   "cell_type": "code",
   "execution_count": 28,
   "id": "cd665e67",
   "metadata": {},
   "outputs": [],
   "source": [
    "from tensorflow.keras.utils import to_categorical\n",
    "from sklearn.model_selection import KFold\n",
    "from tensorflow.python.keras import Sequential\n",
    "from tensorflow.python.keras.optimizers import SGD"
   ]
  },
  {
   "cell_type": "code",
   "execution_count": 29,
   "id": "213a2b2a",
   "metadata": {},
   "outputs": [],
   "source": [
    "def input_data():\n",
    "\n",
    "    (X_train, y_train), (X_test, y_test) = mnist.load_data()\n",
    "\n",
    "    # Reshape to be samples*pixels*width*height\n",
    "    X_train = X_train.reshape(X_train.shape[0], 28, 28, 1).astype('float32')\n",
    "    X_test = X_test.reshape(X_test.shape[0], 28, 28, 1).astype('float32')\n",
    "\n",
    "    # One hot Cpde\n",
    "    y_train = to_categorical(y_train)\n",
    "    y_test = to_categorical(y_test)\n",
    "    num_classes = y_test.shape[1]\n",
    "\n",
    "    # convert from integers to floats\n",
    "    X_train = X_train.astype('float32')\n",
    "    X_test = X_test.astype('float32')\n",
    "    # normalize to range [0, 1]\n",
    "    X_train = (X_train / 255.0)\n",
    "    X_test = (X_test / 255.0)\n",
    "\n",
    "    return X_test, y_test, X_train, y_train"
   ]
  },
  {
   "cell_type": "code",
   "execution_count": 30,
   "id": "3657ddd0",
   "metadata": {},
   "outputs": [],
   "source": [
    "def create_model():\n",
    "    # Create model\n",
    "    # Building CNN\n",
    "    model = Sequential()\n",
    "    model.add(Conv2D(32, (3, 3), activation='relu', kernel_initializer='he_uniform', input_shape=(28, 28, 1)))\n",
    "    model.add(MaxPooling2D((2, 2)))\n",
    "    model.add(Conv2D(64, (3, 3), activation='relu', kernel_initializer='he_uniform'))\n",
    "    model.add(Conv2D(64, (3, 3), activation='relu', kernel_initializer='he_uniform'))\n",
    "    model.add(MaxPooling2D((2, 2)))\n",
    "    model.add(Flatten())\n",
    "    model.add(Dense(100, activation='relu', kernel_initializer='he_uniform'))\n",
    "    model.add(Dense(10, activation='softmax'))\n",
    "    model.compile(loss='categorical_crossentropy', optimizer='adam', metrics=['accuracy'])\n",
    "    return model"
   ]
  },
  {
   "cell_type": "code",
   "execution_count": 31,
   "id": "05954cac",
   "metadata": {},
   "outputs": [],
   "source": [
    "def evaluate_model(X_train, y_Train, n_folds=5):\n",
    "\n",
    "    accuracy, data = list(), list()\n",
    "\n",
    "    # prepare 5-cross validation\n",
    "    kfold = KFold(n_folds, shuffle=True, random_state=1)\n",
    "\n",
    "    for x_train, x_test in kfold.split(X_train):\n",
    "        # create model\n",
    "        model = create_model()\n",
    "        # select rows for train and test\n",
    "        trainX, trainY, testX, testY = X_train[x_train], y_Train[x_train], X_train[x_test], y_Train[x_test]\n",
    "        # fit model\n",
    "        data_fit = model.fit(trainX, trainY, validation_data=(testX, testY), epochs=10, batch_size=32)\n",
    "        # evaluate model\n",
    "        _, acc = model.evaluate(testX, testY, verbose=0)\n",
    "        # stores accuracy\n",
    "        accuracy.append(acc)\n",
    "        data.append(data_fit)\n",
    "    return accuracy, data"
   ]
  },
  {
   "cell_type": "code",
   "execution_count": 32,
   "id": "4f1fbb45",
   "metadata": {},
   "outputs": [],
   "source": [
    "def summarize_diagnostics(data):\n",
    "    for i in range(len(data)):\n",
    "        # plot loss\n",
    "        pyplot.subplot(2, 1, 1)\n",
    "        pyplot.title('Cross Entropy Loss')\n",
    "        pyplot.plot(data[i].history['loss'], color='red', label='green')\n",
    "        pyplot.plot(data[i].history['val_loss'], color='orange', label='test')\n",
    "        # plot accuracy\n",
    "        pyplot.subplot(2, 1, 2)\n",
    "        pyplot.title('Classification Accuracy')\n",
    "        pyplot.plot(data[i].history['accuracy'], color='blue', label='train')\n",
    "        pyplot.plot(data[i].history['val_accuracy'], color='orange', label='test')\n",
    "    pyplot.show()"
   ]
  },
  {
   "cell_type": "code",
   "execution_count": 33,
   "id": "b82a5d69",
   "metadata": {},
   "outputs": [],
   "source": [
    "def summarize_performance(acc):\n",
    "    # print summary\n",
    "    print('Accuracy: mean=%.3f std=%.3f, n=%d' % (numpy.mean(acc) * 100, numpy.std(acc) * 100, len(acc)))\n",
    "\n",
    "    # box and whisker plots of results\n",
    "    pyplot.boxplot(acc)\n",
    "    pyplot.show()"
   ]
  },
  {
   "cell_type": "code",
   "execution_count": 34,
   "id": "c6b1e6b0",
   "metadata": {},
   "outputs": [],
   "source": [
    "def test(X_train, model):\n",
    "    test_images = X_train[1:5]\n",
    "    test_images = test_images.reshape(test_images.shape[0], 28, 28)\n",
    "\n",
    "    for i, test_image in enumerate(test_images, start=1):\n",
    "        org_image = test_image\n",
    "        test_image = test_image.reshape(1, 28, 28, 1)\n",
    "        prediction = np.argmax(model.predict(test_image), axis=-1)\n",
    "        print(\"Predicted digit: {}\".format(prediction[0]))\n",
    "        plt.subplot(220 + i)\n",
    "        plt.axis('off')\n",
    "        plt.title(\"Predicted digit: {}\".format(prediction[0]))\n",
    "        plt.imshow(org_image, cmap=plt.get_cmap('gray'))\n",
    "\n",
    "    plt.show()"
   ]
  },
  {
   "cell_type": "code",
   "execution_count": 35,
   "id": "afe0702a",
   "metadata": {},
   "outputs": [],
   "source": [
    "def run():\n",
    "    X_test, y_test, X_train, y_train = input_data()\n",
    "\n",
    "    # Evaluate\n",
    "    #accuracy, data = evaluate_model(X_train, y_train)\n",
    "    #summarize_diagnostics(data)\n",
    "    #summarize_performance(accuracy)\n",
    "    model = create_model()\n",
    "    model.fit(X_train, y_train, validation_data=(X_test, y_test), epochs=10, batch_size=256)\n",
    "    # TEST\n",
    "    # for images already\n",
    "    test(X_train, model)\n",
    "\n",
    "\n",
    "    # save model and architecture to single file\n",
    "    model.save(\"model.h5\")\n",
    "    print(\"Saved model to disk\")"
   ]
  },
  {
   "cell_type": "code",
   "execution_count": 17,
   "id": "f631aa30",
   "metadata": {},
   "outputs": [
    {
     "name": "stdout",
     "output_type": "stream",
     "text": [
      "Epoch 1/10\n",
      "1500/1500 [==============================] - 36s 24ms/step - loss: 0.1239 - accuracy: 0.9616 - val_loss: 0.0608 - val_accuracy: 0.9812\n",
      "Epoch 2/10\n",
      "1500/1500 [==============================] - 36s 24ms/step - loss: 0.0454 - accuracy: 0.9857 - val_loss: 0.0633 - val_accuracy: 0.9816\n",
      "Epoch 3/10\n",
      "1500/1500 [==============================] - 36s 24ms/step - loss: 0.0328 - accuracy: 0.9899 - val_loss: 0.0539 - val_accuracy: 0.9843\n",
      "Epoch 4/10\n",
      "1500/1500 [==============================] - 36s 24ms/step - loss: 0.0221 - accuracy: 0.9931 - val_loss: 0.0504 - val_accuracy: 0.9858\n",
      "Epoch 5/10\n",
      "1500/1500 [==============================] - 36s 24ms/step - loss: 0.0198 - accuracy: 0.9932 - val_loss: 0.0478 - val_accuracy: 0.9865\n",
      "Epoch 6/10\n",
      "1500/1500 [==============================] - 36s 24ms/step - loss: 0.0131 - accuracy: 0.9959 - val_loss: 0.0491 - val_accuracy: 0.9883\n",
      "Epoch 7/10\n",
      "1500/1500 [==============================] - 36s 24ms/step - loss: 0.0137 - accuracy: 0.9955 - val_loss: 0.0417 - val_accuracy: 0.9901\n",
      "Epoch 8/10\n",
      "1500/1500 [==============================] - 36s 24ms/step - loss: 0.0105 - accuracy: 0.9967 - val_loss: 0.0478 - val_accuracy: 0.9893\n",
      "Epoch 9/10\n",
      "1500/1500 [==============================] - 36s 24ms/step - loss: 0.0081 - accuracy: 0.9975 - val_loss: 0.0526 - val_accuracy: 0.9870\n",
      "Epoch 10/10\n",
      "1500/1500 [==============================] - 36s 24ms/step - loss: 0.0080 - accuracy: 0.9973 - val_loss: 0.0524 - val_accuracy: 0.9892\n",
      "Epoch 1/10\n",
      "1500/1500 [==============================] - 37s 25ms/step - loss: 0.1279 - accuracy: 0.9604 - val_loss: 0.0725 - val_accuracy: 0.9773\n",
      "Epoch 2/10\n",
      "1500/1500 [==============================] - 37s 25ms/step - loss: 0.0440 - accuracy: 0.9860 - val_loss: 0.0441 - val_accuracy: 0.9869\n",
      "Epoch 3/10\n",
      "1500/1500 [==============================] - 37s 25ms/step - loss: 0.0299 - accuracy: 0.9908 - val_loss: 0.0445 - val_accuracy: 0.9864\n",
      "Epoch 4/10\n",
      "1500/1500 [==============================] - 37s 25ms/step - loss: 0.0226 - accuracy: 0.9930 - val_loss: 0.0379 - val_accuracy: 0.9887\n",
      "Epoch 5/10\n",
      "1500/1500 [==============================] - 36s 24ms/step - loss: 0.0182 - accuracy: 0.9940 - val_loss: 0.0314 - val_accuracy: 0.9911\n",
      "Epoch 6/10\n",
      "1500/1500 [==============================] - 35s 24ms/step - loss: 0.0132 - accuracy: 0.9956 - val_loss: 0.0471 - val_accuracy: 0.9873\n",
      "Epoch 7/10\n",
      "1500/1500 [==============================] - 35s 23ms/step - loss: 0.0123 - accuracy: 0.9960 - val_loss: 0.0540 - val_accuracy: 0.9878\n",
      "Epoch 8/10\n",
      "1500/1500 [==============================] - 36s 24ms/step - loss: 0.0126 - accuracy: 0.9957 - val_loss: 0.0520 - val_accuracy: 0.9885\n",
      "Epoch 9/10\n",
      "1500/1500 [==============================] - 35s 24ms/step - loss: 0.0088 - accuracy: 0.9972 - val_loss: 0.0430 - val_accuracy: 0.9893\n",
      "Epoch 10/10\n",
      "1500/1500 [==============================] - 35s 23ms/step - loss: 0.0074 - accuracy: 0.9973 - val_loss: 0.0597 - val_accuracy: 0.9883\n",
      "Epoch 1/10\n",
      "1500/1500 [==============================] - 36s 24ms/step - loss: 0.1263 - accuracy: 0.9606 - val_loss: 0.0556 - val_accuracy: 0.9822\n",
      "Epoch 2/10\n",
      "1500/1500 [==============================] - 35s 24ms/step - loss: 0.0439 - accuracy: 0.9865 - val_loss: 0.0424 - val_accuracy: 0.9869\n",
      "Epoch 3/10\n",
      "1500/1500 [==============================] - 36s 24ms/step - loss: 0.0304 - accuracy: 0.9902 - val_loss: 0.0568 - val_accuracy: 0.9847\n",
      "Epoch 4/10\n",
      "1500/1500 [==============================] - 36s 24ms/step - loss: 0.0226 - accuracy: 0.9928 - val_loss: 0.0501 - val_accuracy: 0.9872\n",
      "Epoch 5/10\n",
      "1500/1500 [==============================] - 36s 24ms/step - loss: 0.0175 - accuracy: 0.9941 - val_loss: 0.0503 - val_accuracy: 0.9868\n",
      "Epoch 6/10\n",
      "1500/1500 [==============================] - 35s 24ms/step - loss: 0.0147 - accuracy: 0.9949 - val_loss: 0.0473 - val_accuracy: 0.9905\n",
      "Epoch 7/10\n",
      "1500/1500 [==============================] - 35s 24ms/step - loss: 0.0107 - accuracy: 0.9967 - val_loss: 0.0483 - val_accuracy: 0.9894\n",
      "Epoch 8/10\n",
      "1500/1500 [==============================] - 36s 24ms/step - loss: 0.0117 - accuracy: 0.9959 - val_loss: 0.0538 - val_accuracy: 0.9886\n",
      "Epoch 9/10\n",
      "1500/1500 [==============================] - 35s 24ms/step - loss: 0.0086 - accuracy: 0.9974 - val_loss: 0.0484 - val_accuracy: 0.9898\n",
      "Epoch 10/10\n",
      "1500/1500 [==============================] - 35s 24ms/step - loss: 0.0077 - accuracy: 0.9973 - val_loss: 0.0576 - val_accuracy: 0.9887\n",
      "Epoch 1/10\n",
      "1500/1500 [==============================] - 39s 26ms/step - loss: 0.1287 - accuracy: 0.9601 - val_loss: 0.0714 - val_accuracy: 0.9773\n",
      "Epoch 2/10\n",
      "1500/1500 [==============================] - 38s 25ms/step - loss: 0.0495 - accuracy: 0.9850 - val_loss: 0.0365 - val_accuracy: 0.9887\n",
      "Epoch 3/10\n",
      "1500/1500 [==============================] - 38s 26ms/step - loss: 0.0331 - accuracy: 0.9894 - val_loss: 0.0439 - val_accuracy: 0.9860\n",
      "Epoch 4/10\n",
      " 691/1500 [============>.................] - ETA: 19s - loss: 0.0252 - accuracy: 0.9923"
     ]
    },
    {
     "ename": "KeyboardInterrupt",
     "evalue": "",
     "output_type": "error",
     "traceback": [
      "\u001b[1;31m---------------------------------------------------------------------------\u001b[0m",
      "\u001b[1;31mKeyboardInterrupt\u001b[0m                         Traceback (most recent call last)",
      "\u001b[1;32m<ipython-input-17-ec9775ede022>\u001b[0m in \u001b[0;36m<module>\u001b[1;34m\u001b[0m\n\u001b[1;32m----> 1\u001b[1;33m \u001b[0mrun\u001b[0m\u001b[1;33m(\u001b[0m\u001b[1;33m)\u001b[0m\u001b[1;33m\u001b[0m\u001b[1;33m\u001b[0m\u001b[0m\n\u001b[0m",
      "\u001b[1;32m<ipython-input-14-ffd0eb8fe9f9>\u001b[0m in \u001b[0;36mrun\u001b[1;34m()\u001b[0m\n\u001b[0;32m      3\u001b[0m \u001b[1;33m\u001b[0m\u001b[0m\n\u001b[0;32m      4\u001b[0m     \u001b[1;31m# Evaluate\u001b[0m\u001b[1;33m\u001b[0m\u001b[1;33m\u001b[0m\u001b[1;33m\u001b[0m\u001b[0m\n\u001b[1;32m----> 5\u001b[1;33m     \u001b[0maccuracy\u001b[0m\u001b[1;33m,\u001b[0m \u001b[0mdata\u001b[0m \u001b[1;33m=\u001b[0m \u001b[0mevaluate_model\u001b[0m\u001b[1;33m(\u001b[0m\u001b[0mX_train\u001b[0m\u001b[1;33m,\u001b[0m \u001b[0my_train\u001b[0m\u001b[1;33m)\u001b[0m\u001b[1;33m\u001b[0m\u001b[1;33m\u001b[0m\u001b[0m\n\u001b[0m\u001b[0;32m      6\u001b[0m     \u001b[0msummarize_diagnostics\u001b[0m\u001b[1;33m(\u001b[0m\u001b[0mdata\u001b[0m\u001b[1;33m)\u001b[0m\u001b[1;33m\u001b[0m\u001b[1;33m\u001b[0m\u001b[0m\n\u001b[0;32m      7\u001b[0m     \u001b[0msummarize_performance\u001b[0m\u001b[1;33m(\u001b[0m\u001b[0maccuracy\u001b[0m\u001b[1;33m)\u001b[0m\u001b[1;33m\u001b[0m\u001b[1;33m\u001b[0m\u001b[0m\n",
      "\u001b[1;32m<ipython-input-9-38db1f7c885a>\u001b[0m in \u001b[0;36mevaluate_model\u001b[1;34m(X_train, y_Train, n_folds)\u001b[0m\n\u001b[0;32m     12\u001b[0m         \u001b[0mtrainX\u001b[0m\u001b[1;33m,\u001b[0m \u001b[0mtrainY\u001b[0m\u001b[1;33m,\u001b[0m \u001b[0mtestX\u001b[0m\u001b[1;33m,\u001b[0m \u001b[0mtestY\u001b[0m \u001b[1;33m=\u001b[0m \u001b[0mX_train\u001b[0m\u001b[1;33m[\u001b[0m\u001b[0mx_train\u001b[0m\u001b[1;33m]\u001b[0m\u001b[1;33m,\u001b[0m \u001b[0my_Train\u001b[0m\u001b[1;33m[\u001b[0m\u001b[0mx_train\u001b[0m\u001b[1;33m]\u001b[0m\u001b[1;33m,\u001b[0m \u001b[0mX_train\u001b[0m\u001b[1;33m[\u001b[0m\u001b[0mx_test\u001b[0m\u001b[1;33m]\u001b[0m\u001b[1;33m,\u001b[0m \u001b[0my_Train\u001b[0m\u001b[1;33m[\u001b[0m\u001b[0mx_test\u001b[0m\u001b[1;33m]\u001b[0m\u001b[1;33m\u001b[0m\u001b[1;33m\u001b[0m\u001b[0m\n\u001b[0;32m     13\u001b[0m         \u001b[1;31m# fit model\u001b[0m\u001b[1;33m\u001b[0m\u001b[1;33m\u001b[0m\u001b[1;33m\u001b[0m\u001b[0m\n\u001b[1;32m---> 14\u001b[1;33m         \u001b[0mdata_fit\u001b[0m \u001b[1;33m=\u001b[0m \u001b[0mmodel\u001b[0m\u001b[1;33m.\u001b[0m\u001b[0mfit\u001b[0m\u001b[1;33m(\u001b[0m\u001b[0mtrainX\u001b[0m\u001b[1;33m,\u001b[0m \u001b[0mtrainY\u001b[0m\u001b[1;33m,\u001b[0m \u001b[0mvalidation_data\u001b[0m\u001b[1;33m=\u001b[0m\u001b[1;33m(\u001b[0m\u001b[0mtestX\u001b[0m\u001b[1;33m,\u001b[0m \u001b[0mtestY\u001b[0m\u001b[1;33m)\u001b[0m\u001b[1;33m,\u001b[0m \u001b[0mepochs\u001b[0m\u001b[1;33m=\u001b[0m\u001b[1;36m10\u001b[0m\u001b[1;33m,\u001b[0m \u001b[0mbatch_size\u001b[0m\u001b[1;33m=\u001b[0m\u001b[1;36m32\u001b[0m\u001b[1;33m)\u001b[0m\u001b[1;33m\u001b[0m\u001b[1;33m\u001b[0m\u001b[0m\n\u001b[0m\u001b[0;32m     15\u001b[0m         \u001b[1;31m# evaluate model\u001b[0m\u001b[1;33m\u001b[0m\u001b[1;33m\u001b[0m\u001b[1;33m\u001b[0m\u001b[0m\n\u001b[0;32m     16\u001b[0m         \u001b[0m_\u001b[0m\u001b[1;33m,\u001b[0m \u001b[0macc\u001b[0m \u001b[1;33m=\u001b[0m \u001b[0mmodel\u001b[0m\u001b[1;33m.\u001b[0m\u001b[0mevaluate\u001b[0m\u001b[1;33m(\u001b[0m\u001b[0mtestX\u001b[0m\u001b[1;33m,\u001b[0m \u001b[0mtestY\u001b[0m\u001b[1;33m,\u001b[0m \u001b[0mverbose\u001b[0m\u001b[1;33m=\u001b[0m\u001b[1;36m0\u001b[0m\u001b[1;33m)\u001b[0m\u001b[1;33m\u001b[0m\u001b[1;33m\u001b[0m\u001b[0m\n",
      "\u001b[1;32m~\\Anaconda3\\lib\\site-packages\\tensorflow\\python\\keras\\engine\\training.py\u001b[0m in \u001b[0;36m_method_wrapper\u001b[1;34m(self, *args, **kwargs)\u001b[0m\n\u001b[0;32m    106\u001b[0m   \u001b[1;32mdef\u001b[0m \u001b[0m_method_wrapper\u001b[0m\u001b[1;33m(\u001b[0m\u001b[0mself\u001b[0m\u001b[1;33m,\u001b[0m \u001b[1;33m*\u001b[0m\u001b[0margs\u001b[0m\u001b[1;33m,\u001b[0m \u001b[1;33m**\u001b[0m\u001b[0mkwargs\u001b[0m\u001b[1;33m)\u001b[0m\u001b[1;33m:\u001b[0m\u001b[1;33m\u001b[0m\u001b[1;33m\u001b[0m\u001b[0m\n\u001b[0;32m    107\u001b[0m     \u001b[1;32mif\u001b[0m \u001b[1;32mnot\u001b[0m \u001b[0mself\u001b[0m\u001b[1;33m.\u001b[0m\u001b[0m_in_multi_worker_mode\u001b[0m\u001b[1;33m(\u001b[0m\u001b[1;33m)\u001b[0m\u001b[1;33m:\u001b[0m  \u001b[1;31m# pylint: disable=protected-access\u001b[0m\u001b[1;33m\u001b[0m\u001b[1;33m\u001b[0m\u001b[0m\n\u001b[1;32m--> 108\u001b[1;33m       \u001b[1;32mreturn\u001b[0m \u001b[0mmethod\u001b[0m\u001b[1;33m(\u001b[0m\u001b[0mself\u001b[0m\u001b[1;33m,\u001b[0m \u001b[1;33m*\u001b[0m\u001b[0margs\u001b[0m\u001b[1;33m,\u001b[0m \u001b[1;33m**\u001b[0m\u001b[0mkwargs\u001b[0m\u001b[1;33m)\u001b[0m\u001b[1;33m\u001b[0m\u001b[1;33m\u001b[0m\u001b[0m\n\u001b[0m\u001b[0;32m    109\u001b[0m \u001b[1;33m\u001b[0m\u001b[0m\n\u001b[0;32m    110\u001b[0m     \u001b[1;31m# Running inside `run_distribute_coordinator` already.\u001b[0m\u001b[1;33m\u001b[0m\u001b[1;33m\u001b[0m\u001b[1;33m\u001b[0m\u001b[0m\n",
      "\u001b[1;32m~\\Anaconda3\\lib\\site-packages\\tensorflow\\python\\keras\\engine\\training.py\u001b[0m in \u001b[0;36mfit\u001b[1;34m(self, x, y, batch_size, epochs, verbose, callbacks, validation_split, validation_data, shuffle, class_weight, sample_weight, initial_epoch, steps_per_epoch, validation_steps, validation_batch_size, validation_freq, max_queue_size, workers, use_multiprocessing)\u001b[0m\n\u001b[0;32m   1096\u001b[0m                 batch_size=batch_size):\n\u001b[0;32m   1097\u001b[0m               \u001b[0mcallbacks\u001b[0m\u001b[1;33m.\u001b[0m\u001b[0mon_train_batch_begin\u001b[0m\u001b[1;33m(\u001b[0m\u001b[0mstep\u001b[0m\u001b[1;33m)\u001b[0m\u001b[1;33m\u001b[0m\u001b[1;33m\u001b[0m\u001b[0m\n\u001b[1;32m-> 1098\u001b[1;33m               \u001b[0mtmp_logs\u001b[0m \u001b[1;33m=\u001b[0m \u001b[0mtrain_function\u001b[0m\u001b[1;33m(\u001b[0m\u001b[0miterator\u001b[0m\u001b[1;33m)\u001b[0m\u001b[1;33m\u001b[0m\u001b[1;33m\u001b[0m\u001b[0m\n\u001b[0m\u001b[0;32m   1099\u001b[0m               \u001b[1;32mif\u001b[0m \u001b[0mdata_handler\u001b[0m\u001b[1;33m.\u001b[0m\u001b[0mshould_sync\u001b[0m\u001b[1;33m:\u001b[0m\u001b[1;33m\u001b[0m\u001b[1;33m\u001b[0m\u001b[0m\n\u001b[0;32m   1100\u001b[0m                 \u001b[0mcontext\u001b[0m\u001b[1;33m.\u001b[0m\u001b[0masync_wait\u001b[0m\u001b[1;33m(\u001b[0m\u001b[1;33m)\u001b[0m\u001b[1;33m\u001b[0m\u001b[1;33m\u001b[0m\u001b[0m\n",
      "\u001b[1;32m~\\Anaconda3\\lib\\site-packages\\tensorflow\\python\\eager\\def_function.py\u001b[0m in \u001b[0;36m__call__\u001b[1;34m(self, *args, **kwds)\u001b[0m\n\u001b[0;32m    778\u001b[0m       \u001b[1;32melse\u001b[0m\u001b[1;33m:\u001b[0m\u001b[1;33m\u001b[0m\u001b[1;33m\u001b[0m\u001b[0m\n\u001b[0;32m    779\u001b[0m         \u001b[0mcompiler\u001b[0m \u001b[1;33m=\u001b[0m \u001b[1;34m\"nonXla\"\u001b[0m\u001b[1;33m\u001b[0m\u001b[1;33m\u001b[0m\u001b[0m\n\u001b[1;32m--> 780\u001b[1;33m         \u001b[0mresult\u001b[0m \u001b[1;33m=\u001b[0m \u001b[0mself\u001b[0m\u001b[1;33m.\u001b[0m\u001b[0m_call\u001b[0m\u001b[1;33m(\u001b[0m\u001b[1;33m*\u001b[0m\u001b[0margs\u001b[0m\u001b[1;33m,\u001b[0m \u001b[1;33m**\u001b[0m\u001b[0mkwds\u001b[0m\u001b[1;33m)\u001b[0m\u001b[1;33m\u001b[0m\u001b[1;33m\u001b[0m\u001b[0m\n\u001b[0m\u001b[0;32m    781\u001b[0m \u001b[1;33m\u001b[0m\u001b[0m\n\u001b[0;32m    782\u001b[0m       \u001b[0mnew_tracing_count\u001b[0m \u001b[1;33m=\u001b[0m \u001b[0mself\u001b[0m\u001b[1;33m.\u001b[0m\u001b[0m_get_tracing_count\u001b[0m\u001b[1;33m(\u001b[0m\u001b[1;33m)\u001b[0m\u001b[1;33m\u001b[0m\u001b[1;33m\u001b[0m\u001b[0m\n",
      "\u001b[1;32m~\\Anaconda3\\lib\\site-packages\\tensorflow\\python\\eager\\def_function.py\u001b[0m in \u001b[0;36m_call\u001b[1;34m(self, *args, **kwds)\u001b[0m\n\u001b[0;32m    805\u001b[0m       \u001b[1;31m# In this case we have created variables on the first call, so we run the\u001b[0m\u001b[1;33m\u001b[0m\u001b[1;33m\u001b[0m\u001b[1;33m\u001b[0m\u001b[0m\n\u001b[0;32m    806\u001b[0m       \u001b[1;31m# defunned version which is guaranteed to never create variables.\u001b[0m\u001b[1;33m\u001b[0m\u001b[1;33m\u001b[0m\u001b[1;33m\u001b[0m\u001b[0m\n\u001b[1;32m--> 807\u001b[1;33m       \u001b[1;32mreturn\u001b[0m \u001b[0mself\u001b[0m\u001b[1;33m.\u001b[0m\u001b[0m_stateless_fn\u001b[0m\u001b[1;33m(\u001b[0m\u001b[1;33m*\u001b[0m\u001b[0margs\u001b[0m\u001b[1;33m,\u001b[0m \u001b[1;33m**\u001b[0m\u001b[0mkwds\u001b[0m\u001b[1;33m)\u001b[0m  \u001b[1;31m# pylint: disable=not-callable\u001b[0m\u001b[1;33m\u001b[0m\u001b[1;33m\u001b[0m\u001b[0m\n\u001b[0m\u001b[0;32m    808\u001b[0m     \u001b[1;32melif\u001b[0m \u001b[0mself\u001b[0m\u001b[1;33m.\u001b[0m\u001b[0m_stateful_fn\u001b[0m \u001b[1;32mis\u001b[0m \u001b[1;32mnot\u001b[0m \u001b[1;32mNone\u001b[0m\u001b[1;33m:\u001b[0m\u001b[1;33m\u001b[0m\u001b[1;33m\u001b[0m\u001b[0m\n\u001b[0;32m    809\u001b[0m       \u001b[1;31m# Release the lock early so that multiple threads can perform the call\u001b[0m\u001b[1;33m\u001b[0m\u001b[1;33m\u001b[0m\u001b[1;33m\u001b[0m\u001b[0m\n",
      "\u001b[1;32m~\\Anaconda3\\lib\\site-packages\\tensorflow\\python\\eager\\function.py\u001b[0m in \u001b[0;36m__call__\u001b[1;34m(self, *args, **kwargs)\u001b[0m\n\u001b[0;32m   2827\u001b[0m     \u001b[1;32mwith\u001b[0m \u001b[0mself\u001b[0m\u001b[1;33m.\u001b[0m\u001b[0m_lock\u001b[0m\u001b[1;33m:\u001b[0m\u001b[1;33m\u001b[0m\u001b[1;33m\u001b[0m\u001b[0m\n\u001b[0;32m   2828\u001b[0m       \u001b[0mgraph_function\u001b[0m\u001b[1;33m,\u001b[0m \u001b[0margs\u001b[0m\u001b[1;33m,\u001b[0m \u001b[0mkwargs\u001b[0m \u001b[1;33m=\u001b[0m \u001b[0mself\u001b[0m\u001b[1;33m.\u001b[0m\u001b[0m_maybe_define_function\u001b[0m\u001b[1;33m(\u001b[0m\u001b[0margs\u001b[0m\u001b[1;33m,\u001b[0m \u001b[0mkwargs\u001b[0m\u001b[1;33m)\u001b[0m\u001b[1;33m\u001b[0m\u001b[1;33m\u001b[0m\u001b[0m\n\u001b[1;32m-> 2829\u001b[1;33m     \u001b[1;32mreturn\u001b[0m \u001b[0mgraph_function\u001b[0m\u001b[1;33m.\u001b[0m\u001b[0m_filtered_call\u001b[0m\u001b[1;33m(\u001b[0m\u001b[0margs\u001b[0m\u001b[1;33m,\u001b[0m \u001b[0mkwargs\u001b[0m\u001b[1;33m)\u001b[0m  \u001b[1;31m# pylint: disable=protected-access\u001b[0m\u001b[1;33m\u001b[0m\u001b[1;33m\u001b[0m\u001b[0m\n\u001b[0m\u001b[0;32m   2830\u001b[0m \u001b[1;33m\u001b[0m\u001b[0m\n\u001b[0;32m   2831\u001b[0m   \u001b[1;33m@\u001b[0m\u001b[0mproperty\u001b[0m\u001b[1;33m\u001b[0m\u001b[1;33m\u001b[0m\u001b[0m\n",
      "\u001b[1;32m~\\Anaconda3\\lib\\site-packages\\tensorflow\\python\\eager\\function.py\u001b[0m in \u001b[0;36m_filtered_call\u001b[1;34m(self, args, kwargs, cancellation_manager)\u001b[0m\n\u001b[0;32m   1841\u001b[0m       \u001b[0;31m`\u001b[0m\u001b[0margs\u001b[0m\u001b[0;31m`\u001b[0m \u001b[1;32mand\u001b[0m\u001b[0;31m \u001b[0m\u001b[0;31m`\u001b[0m\u001b[0mkwargs\u001b[0m\u001b[0;31m`\u001b[0m\u001b[1;33m.\u001b[0m\u001b[1;33m\u001b[0m\u001b[1;33m\u001b[0m\u001b[0m\n\u001b[0;32m   1842\u001b[0m     \"\"\"\n\u001b[1;32m-> 1843\u001b[1;33m     return self._call_flat(\n\u001b[0m\u001b[0;32m   1844\u001b[0m         [t for t in nest.flatten((args, kwargs), expand_composites=True)\n\u001b[0;32m   1845\u001b[0m          if isinstance(t, (ops.Tensor,\n",
      "\u001b[1;32m~\\Anaconda3\\lib\\site-packages\\tensorflow\\python\\eager\\function.py\u001b[0m in \u001b[0;36m_call_flat\u001b[1;34m(self, args, captured_inputs, cancellation_manager)\u001b[0m\n\u001b[0;32m   1921\u001b[0m         and executing_eagerly):\n\u001b[0;32m   1922\u001b[0m       \u001b[1;31m# No tape is watching; skip to running the function.\u001b[0m\u001b[1;33m\u001b[0m\u001b[1;33m\u001b[0m\u001b[1;33m\u001b[0m\u001b[0m\n\u001b[1;32m-> 1923\u001b[1;33m       return self._build_call_outputs(self._inference_function.call(\n\u001b[0m\u001b[0;32m   1924\u001b[0m           ctx, args, cancellation_manager=cancellation_manager))\n\u001b[0;32m   1925\u001b[0m     forward_backward = self._select_forward_and_backward_functions(\n",
      "\u001b[1;32m~\\Anaconda3\\lib\\site-packages\\tensorflow\\python\\eager\\function.py\u001b[0m in \u001b[0;36mcall\u001b[1;34m(self, ctx, args, cancellation_manager)\u001b[0m\n\u001b[0;32m    543\u001b[0m       \u001b[1;32mwith\u001b[0m \u001b[0m_InterpolateFunctionError\u001b[0m\u001b[1;33m(\u001b[0m\u001b[0mself\u001b[0m\u001b[1;33m)\u001b[0m\u001b[1;33m:\u001b[0m\u001b[1;33m\u001b[0m\u001b[1;33m\u001b[0m\u001b[0m\n\u001b[0;32m    544\u001b[0m         \u001b[1;32mif\u001b[0m \u001b[0mcancellation_manager\u001b[0m \u001b[1;32mis\u001b[0m \u001b[1;32mNone\u001b[0m\u001b[1;33m:\u001b[0m\u001b[1;33m\u001b[0m\u001b[1;33m\u001b[0m\u001b[0m\n\u001b[1;32m--> 545\u001b[1;33m           outputs = execute.execute(\n\u001b[0m\u001b[0;32m    546\u001b[0m               \u001b[0mstr\u001b[0m\u001b[1;33m(\u001b[0m\u001b[0mself\u001b[0m\u001b[1;33m.\u001b[0m\u001b[0msignature\u001b[0m\u001b[1;33m.\u001b[0m\u001b[0mname\u001b[0m\u001b[1;33m)\u001b[0m\u001b[1;33m,\u001b[0m\u001b[1;33m\u001b[0m\u001b[1;33m\u001b[0m\u001b[0m\n\u001b[0;32m    547\u001b[0m               \u001b[0mnum_outputs\u001b[0m\u001b[1;33m=\u001b[0m\u001b[0mself\u001b[0m\u001b[1;33m.\u001b[0m\u001b[0m_num_outputs\u001b[0m\u001b[1;33m,\u001b[0m\u001b[1;33m\u001b[0m\u001b[1;33m\u001b[0m\u001b[0m\n",
      "\u001b[1;32m~\\Anaconda3\\lib\\site-packages\\tensorflow\\python\\eager\\execute.py\u001b[0m in \u001b[0;36mquick_execute\u001b[1;34m(op_name, num_outputs, inputs, attrs, ctx, name)\u001b[0m\n\u001b[0;32m     57\u001b[0m   \u001b[1;32mtry\u001b[0m\u001b[1;33m:\u001b[0m\u001b[1;33m\u001b[0m\u001b[1;33m\u001b[0m\u001b[0m\n\u001b[0;32m     58\u001b[0m     \u001b[0mctx\u001b[0m\u001b[1;33m.\u001b[0m\u001b[0mensure_initialized\u001b[0m\u001b[1;33m(\u001b[0m\u001b[1;33m)\u001b[0m\u001b[1;33m\u001b[0m\u001b[1;33m\u001b[0m\u001b[0m\n\u001b[1;32m---> 59\u001b[1;33m     tensors = pywrap_tfe.TFE_Py_Execute(ctx._handle, device_name, op_name,\n\u001b[0m\u001b[0;32m     60\u001b[0m                                         inputs, attrs, num_outputs)\n\u001b[0;32m     61\u001b[0m   \u001b[1;32mexcept\u001b[0m \u001b[0mcore\u001b[0m\u001b[1;33m.\u001b[0m\u001b[0m_NotOkStatusException\u001b[0m \u001b[1;32mas\u001b[0m \u001b[0me\u001b[0m\u001b[1;33m:\u001b[0m\u001b[1;33m\u001b[0m\u001b[1;33m\u001b[0m\u001b[0m\n",
      "\u001b[1;31mKeyboardInterrupt\u001b[0m: "
     ]
    }
   ],
   "source": [
    "run()"
   ]
  },
  {
   "cell_type": "code",
   "execution_count": 36,
   "id": "38dea2e1",
   "metadata": {},
   "outputs": [
    {
     "name": "stdout",
     "output_type": "stream",
     "text": [
      "Epoch 1/15\n",
      "235/235 [==============================] - 35s 149ms/step - loss: 0.2622 - accuracy: 0.9245 - val_loss: 0.0684 - val_accuracy: 0.9792\n",
      "Epoch 2/15\n",
      "235/235 [==============================] - 41s 173ms/step - loss: 0.0531 - accuracy: 0.9844 - val_loss: 0.0404 - val_accuracy: 0.9873\n",
      "Epoch 3/15\n",
      "235/235 [==============================] - 36s 155ms/step - loss: 0.0382 - accuracy: 0.9883 - val_loss: 0.0342 - val_accuracy: 0.9886\n",
      "Epoch 4/15\n",
      "235/235 [==============================] - 40s 168ms/step - loss: 0.0292 - accuracy: 0.9903 - val_loss: 0.0261 - val_accuracy: 0.9907\n",
      "Epoch 5/15\n",
      "235/235 [==============================] - 38s 164ms/step - loss: 0.0219 - accuracy: 0.9931 - val_loss: 0.0248 - val_accuracy: 0.9912\n",
      "Epoch 6/15\n",
      "235/235 [==============================] - 38s 161ms/step - loss: 0.0176 - accuracy: 0.9941 - val_loss: 0.0257 - val_accuracy: 0.9922\n",
      "Epoch 7/15\n",
      "235/235 [==============================] - 37s 156ms/step - loss: 0.0129 - accuracy: 0.9959 - val_loss: 0.0216 - val_accuracy: 0.9932\n",
      "Epoch 8/15\n",
      "235/235 [==============================] - 42s 179ms/step - loss: 0.0115 - accuracy: 0.9965 - val_loss: 0.0283 - val_accuracy: 0.9907\n",
      "Epoch 9/15\n",
      "235/235 [==============================] - 41s 175ms/step - loss: 0.0087 - accuracy: 0.9973 - val_loss: 0.0303 - val_accuracy: 0.9909\n",
      "Epoch 10/15\n",
      "235/235 [==============================] - 41s 174ms/step - loss: 0.0084 - accuracy: 0.9971 - val_loss: 0.0314 - val_accuracy: 0.9910\n",
      "Epoch 11/15\n",
      "235/235 [==============================] - 41s 173ms/step - loss: 0.0084 - accuracy: 0.9972 - val_loss: 0.0319 - val_accuracy: 0.9918\n",
      "Epoch 12/15\n",
      "235/235 [==============================] - 40s 169ms/step - loss: 0.0072 - accuracy: 0.9973 - val_loss: 0.0293 - val_accuracy: 0.9918\n",
      "Epoch 13/15\n",
      "235/235 [==============================] - 37s 159ms/step - loss: 0.0053 - accuracy: 0.9981 - val_loss: 0.0271 - val_accuracy: 0.9919\n",
      "Epoch 14/15\n",
      "235/235 [==============================] - 38s 160ms/step - loss: 0.0060 - accuracy: 0.9981 - val_loss: 0.0267 - val_accuracy: 0.9927\n",
      "Epoch 15/15\n",
      "235/235 [==============================] - 37s 157ms/step - loss: 0.0056 - accuracy: 0.9978 - val_loss: 0.0350 - val_accuracy: 0.9909\n",
      "Predicted digit: 0\n",
      "Predicted digit: 4\n",
      "Predicted digit: 1\n",
      "Predicted digit: 9\n"
     ]
    },
    {
     "data": {
      "image/png": "[encoded data removed]",
      "text/plain": [
       "<Figure size 432x288 with 4 Axes>"
      ]
     },
     "metadata": {
      "needs_background": "light"
     },
     "output_type": "display_data"
    },
    {
     "name": "stdout",
     "output_type": "stream",
     "text": [
      "Saved model to disk\n"
     ]
    }
   ],
   "source": [
    "X_test, y_test, X_train, y_train = input_data()\n",
    "model = create_model()\n",
    "model.fit(X_train, y_train, validation_data=(X_test, y_test), epochs=15, batch_size=256)\n",
    "test(X_train, model)\n",
    "model.save(\"model.h5\")\n",
    "print(\"Saved model to disk\")"
   ]
  },
  {
   "cell_type": "code",
   "execution_count": 25,
   "id": "caeb49fa",
   "metadata": {},
   "outputs": [
    {
     "name": "stdout",
     "output_type": "stream",
     "text": [
      "Predicted digit: 0\n",
      "Predicted digit: 4\n",
      "Predicted digit: 1\n",
      "Predicted digit: 9\n"
     ]
    },
    {
     "data": {
      "image/png": "[encoded data removed]",
      "text/plain": [
       "<Figure size 432x288 with 4 Axes>"
      ]
     },
     "metadata": {
      "needs_background": "light"
     },
     "output_type": "display_data"
    },
    {
     "name": "stdout",
     "output_type": "stream",
     "text": [
      "Saved model to disk\n"
     ]
    }
   ],
   "source": []
  },
  {
   "cell_type": "code",
   "execution_count": null,
   "id": "6a851dd9",
   "metadata": {},
   "outputs": [],
   "source": []
  }
 ],
 "metadata": {
  "kernelspec": {
   "display_name": "Python 3",
   "language": "python",
   "name": "python3"
  },
  "language_info": {
   "codemirror_mode": {
    "name": "ipython",
    "version": 3
   },
   "file_extension": ".py",
   "mimetype": "text/x-python",
   "name": "python",
   "nbconvert_exporter": "python",
   "pygments_lexer": "ipython3",
   "version": "3.8.8"
  }
 },
 "nbformat": 4,
 "nbformat_minor": 5
}
