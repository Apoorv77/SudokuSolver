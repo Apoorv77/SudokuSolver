{
 "cells": [
  {
   "cell_type": "code",
   "execution_count": 3,
   "id": "e4e27c7f",
   "metadata": {},
   "outputs": [],
   "source": [
    "import cv2\n",
    "import numpy as np\n",
    "from tensorflow.python.keras.models import load_model\n",
    "import matplotlib.pyplot as plt\n",
    "from image_processes import extract, scale_and_centre, order_corner_points"
   ]
  },
  {
   "cell_type": "code",
   "execution_count": 4,
   "id": "3ba555b6",
   "metadata": {},
   "outputs": [],
   "source": [
    "def display_image(img):\n",
    "    cv2.imshow('image', img)  # Display the image\n",
    "    cv2.waitKey(0)  # Wait for any key to be pressed (with the image window active)\n",
    "    cv2.destroyAllWindows()  # Close all windows\n"
   ]
  },
  {
   "cell_type": "code",
   "execution_count": 5,
   "id": "781b43a0",
   "metadata": {},
   "outputs": [],
   "source": [
    "def extract_number_image(img_grid):\n",
    "    tmp_sudoku = [[0 for i in range(9)] for j in range(9)]\n",
    "    for i in range(9):\n",
    "        for j in range(9):\n",
    "\n",
    "            image = img_grid[i][j]\n",
    "            image = cv2.resize(image, (28, 28))\n",
    "            original = image.copy()\n",
    "\n",
    "            thresh = 128  # define a threshold, 128 is the middle of black and white in grey scale\n",
    "            # threshold the image\n",
    "            gray = cv2.threshold(image, thresh, 255, cv2.THRESH_BINARY)[1]\n",
    "\n",
    "            # Find contours\n",
    "            cnts = cv2.findContours(gray, cv2.RETR_EXTERNAL, cv2.CHAIN_APPROX_SIMPLE)\n",
    "            cnts = cnts[0] if len(cnts) == 2 else cnts[1]\n",
    "\n",
    "            for c in cnts:\n",
    "                x, y, w, h = cv2.boundingRect(c)\n",
    "\n",
    "                if (x < 3 or y < 3 or h < 3 or w < 3):\n",
    "                    # Note the number is always placed in the center\n",
    "                    # Since image is 28x28\n",
    "                    # the number will be in the center thus x >3 and y>3\n",
    "                    # Additionally any of the external lines of the sudoku will not be thicker than 3\n",
    "                    continue\n",
    "                ROI = gray[y:y + h, x:x + w]\n",
    "                ROI = scale_and_centre(ROI, 120)\n",
    "                # display_image(ROI)\n",
    "\n",
    "                # Writing the cleaned cells\n",
    "                cv2.imwrite(\"CleanedBoardCells/cell{}{}.png\".format(i, j), ROI)\n",
    "                tmp_sudoku[i][j] = predict(ROI)\n",
    "\n",
    "    return tmp_sudoku"
   ]
  },
  {
   "cell_type": "code",
   "execution_count": 6,
   "id": "ba5ed7b5",
   "metadata": {},
   "outputs": [],
   "source": [
    "def predict(img_grid):\n",
    "    image = img_grid.copy()\n",
    "    # image = cv2.cvtColor(image, cv2.COLOR_BGR2GRAY)\n",
    "    # image = cv2.threshold(image, 140, 255, cv2.THRESH_BINARY)[1]\n",
    "    image = cv2.resize(image, (28, 28))\n",
    "    # display_image(image)\n",
    "    image = image.astype('float32')\n",
    "    image = image.reshape(1, 28, 28, 1)\n",
    "    image /= 255\n",
    "\n",
    "    # plt.imshow(image.reshape(28, 28), cmap='Greys')\n",
    "    # plt.show()\n",
    "    model = load_model('cnn.hdf5')\n",
    "    pred = model.predict(image.reshape(1, 28, 28, 1), batch_size=1)\n",
    "\n",
    "    # print(pred.argmax())\n",
    "\n",
    "    return pred.argmax()\n"
   ]
  },
  {
   "cell_type": "code",
   "execution_count": null,
   "id": "8f56e1ba",
   "metadata": {},
   "outputs": [],
   "source": []
  }
 ],
 "metadata": {
  "kernelspec": {
   "display_name": "Python 3",
   "language": "python",
   "name": "python3"
  },
  "language_info": {
   "codemirror_mode": {
    "name": "ipython",
    "version": 3
   },
   "file_extension": ".py",
   "mimetype": "text/x-python",
   "name": "python",
   "nbconvert_exporter": "python",
   "pygments_lexer": "ipython3",
   "version": "3.8.8"
  }
 },
 "nbformat": 4,
 "nbformat_minor": 5
}
